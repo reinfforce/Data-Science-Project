{
 "cells": [
  {
   "cell_type": "code",
   "execution_count": 1,
   "id": "056c7abf",
   "metadata": {},
   "outputs": [],
   "source": [
    "import warnings\n",
    "warnings.simplefilter('ignore')\n",
    "\n",
    "import numpy as np\n",
    "import pandas as pd\n",
    "import seaborn as sns\n",
    "import matplotlib.pyplot as plt\n",
    "from scipy.stats import ttest_ind\n",
    "\n",
    "%matplotlib inline"
   ]
  },
  {
   "cell_type": "markdown",
   "id": "b7ee23d7",
   "metadata": {},
   "source": [
    "# Load Dataset"
   ]
  },
  {
   "cell_type": "code",
   "execution_count": 2,
   "id": "731cbbbe",
   "metadata": {},
   "outputs": [
    {
     "data": {
      "text/html": [
       "<div>\n",
       "<style scoped>\n",
       "    .dataframe tbody tr th:only-of-type {\n",
       "        vertical-align: middle;\n",
       "    }\n",
       "\n",
       "    .dataframe tbody tr th {\n",
       "        vertical-align: top;\n",
       "    }\n",
       "\n",
       "    .dataframe thead th {\n",
       "        text-align: right;\n",
       "    }\n",
       "</style>\n",
       "<table border=\"1\" class=\"dataframe\">\n",
       "  <thead>\n",
       "    <tr style=\"text-align: right;\">\n",
       "      <th></th>\n",
       "      <th>user_id</th>\n",
       "      <th>signup_date</th>\n",
       "    </tr>\n",
       "  </thead>\n",
       "  <tbody>\n",
       "    <tr>\n",
       "      <th>0</th>\n",
       "      <td>34</td>\n",
       "      <td>2015-01-01</td>\n",
       "    </tr>\n",
       "    <tr>\n",
       "      <th>1</th>\n",
       "      <td>59</td>\n",
       "      <td>2015-01-01</td>\n",
       "    </tr>\n",
       "    <tr>\n",
       "      <th>2</th>\n",
       "      <td>178</td>\n",
       "      <td>2015-01-01</td>\n",
       "    </tr>\n",
       "    <tr>\n",
       "      <th>3</th>\n",
       "      <td>285</td>\n",
       "      <td>2015-01-01</td>\n",
       "    </tr>\n",
       "    <tr>\n",
       "      <th>4</th>\n",
       "      <td>383</td>\n",
       "      <td>2015-01-01</td>\n",
       "    </tr>\n",
       "  </tbody>\n",
       "</table>\n",
       "</div>"
      ],
      "text/plain": [
       "   user_id signup_date\n",
       "0       34  2015-01-01\n",
       "1       59  2015-01-01\n",
       "2      178  2015-01-01\n",
       "3      285  2015-01-01\n",
       "4      383  2015-01-01"
      ]
     },
     "execution_count": 2,
     "metadata": {},
     "output_type": "execute_result"
    }
   ],
   "source": [
    "user = pd.read_csv('user_table.csv', parse_dates = ['signup_date'])\n",
    "user.head()"
   ]
  },
  {
   "cell_type": "code",
   "execution_count": 3,
   "id": "34506029",
   "metadata": {},
   "outputs": [
    {
     "name": "stdout",
     "output_type": "stream",
     "text": [
      "<class 'pandas.core.frame.DataFrame'>\n",
      "RangeIndex: 100000 entries, 0 to 99999\n",
      "Data columns (total 2 columns):\n",
      " #   Column       Non-Null Count   Dtype         \n",
      "---  ------       --------------   -----         \n",
      " 0   user_id      100000 non-null  int64         \n",
      " 1   signup_date  100000 non-null  datetime64[ns]\n",
      "dtypes: datetime64[ns](1), int64(1)\n",
      "memory usage: 1.5 MB\n"
     ]
    }
   ],
   "source": [
    "user.info()"
   ]
  },
  {
   "cell_type": "code",
   "execution_count": 4,
   "id": "19c13edf",
   "metadata": {},
   "outputs": [
    {
     "data": {
      "text/html": [
       "<div>\n",
       "<style scoped>\n",
       "    .dataframe tbody tr th:only-of-type {\n",
       "        vertical-align: middle;\n",
       "    }\n",
       "\n",
       "    .dataframe tbody tr th {\n",
       "        vertical-align: top;\n",
       "    }\n",
       "\n",
       "    .dataframe thead th {\n",
       "        text-align: right;\n",
       "    }\n",
       "</style>\n",
       "<table border=\"1\" class=\"dataframe\">\n",
       "  <thead>\n",
       "    <tr style=\"text-align: right;\">\n",
       "      <th></th>\n",
       "      <th>user_id</th>\n",
       "      <th>date</th>\n",
       "      <th>browser</th>\n",
       "      <th>test</th>\n",
       "      <th>pages_visited</th>\n",
       "    </tr>\n",
       "  </thead>\n",
       "  <tbody>\n",
       "    <tr>\n",
       "      <th>0</th>\n",
       "      <td>600597</td>\n",
       "      <td>2015-08-13</td>\n",
       "      <td>IE</td>\n",
       "      <td>0</td>\n",
       "      <td>2</td>\n",
       "    </tr>\n",
       "    <tr>\n",
       "      <th>1</th>\n",
       "      <td>4410028</td>\n",
       "      <td>2015-08-26</td>\n",
       "      <td>Chrome</td>\n",
       "      <td>1</td>\n",
       "      <td>5</td>\n",
       "    </tr>\n",
       "    <tr>\n",
       "      <th>2</th>\n",
       "      <td>6004777</td>\n",
       "      <td>2015-08-17</td>\n",
       "      <td>Chrome</td>\n",
       "      <td>0</td>\n",
       "      <td>8</td>\n",
       "    </tr>\n",
       "    <tr>\n",
       "      <th>3</th>\n",
       "      <td>5990330</td>\n",
       "      <td>2015-08-27</td>\n",
       "      <td>Safari</td>\n",
       "      <td>0</td>\n",
       "      <td>8</td>\n",
       "    </tr>\n",
       "    <tr>\n",
       "      <th>4</th>\n",
       "      <td>3622310</td>\n",
       "      <td>2015-08-07</td>\n",
       "      <td>Firefox</td>\n",
       "      <td>0</td>\n",
       "      <td>1</td>\n",
       "    </tr>\n",
       "  </tbody>\n",
       "</table>\n",
       "</div>"
      ],
      "text/plain": [
       "   user_id       date  browser  test  pages_visited\n",
       "0   600597 2015-08-13       IE     0              2\n",
       "1  4410028 2015-08-26   Chrome     1              5\n",
       "2  6004777 2015-08-17   Chrome     0              8\n",
       "3  5990330 2015-08-27   Safari     0              8\n",
       "4  3622310 2015-08-07  Firefox     0              1"
      ]
     },
     "execution_count": 4,
     "metadata": {},
     "output_type": "execute_result"
    }
   ],
   "source": [
    "test = pd.read_csv('test_table.csv', parse_dates = ['date'])\n",
    "test.head()"
   ]
  },
  {
   "cell_type": "code",
   "execution_count": 5,
   "id": "288fbab9",
   "metadata": {},
   "outputs": [
    {
     "name": "stdout",
     "output_type": "stream",
     "text": [
      "<class 'pandas.core.frame.DataFrame'>\n",
      "RangeIndex: 100000 entries, 0 to 99999\n",
      "Data columns (total 5 columns):\n",
      " #   Column         Non-Null Count   Dtype         \n",
      "---  ------         --------------   -----         \n",
      " 0   user_id        100000 non-null  int64         \n",
      " 1   date           100000 non-null  datetime64[ns]\n",
      " 2   browser        100000 non-null  object        \n",
      " 3   test           100000 non-null  int64         \n",
      " 4   pages_visited  100000 non-null  int64         \n",
      "dtypes: datetime64[ns](1), int64(3), object(1)\n",
      "memory usage: 3.8+ MB\n"
     ]
    }
   ],
   "source": [
    "test.info()"
   ]
  },
  {
   "cell_type": "code",
   "execution_count": 6,
   "id": "1c7f2b80",
   "metadata": {},
   "outputs": [
    {
     "data": {
      "text/html": [
       "<div>\n",
       "<style scoped>\n",
       "    .dataframe tbody tr th:only-of-type {\n",
       "        vertical-align: middle;\n",
       "    }\n",
       "\n",
       "    .dataframe tbody tr th {\n",
       "        vertical-align: top;\n",
       "    }\n",
       "\n",
       "    .dataframe thead th {\n",
       "        text-align: right;\n",
       "    }\n",
       "</style>\n",
       "<table border=\"1\" class=\"dataframe\">\n",
       "  <thead>\n",
       "    <tr style=\"text-align: right;\">\n",
       "      <th></th>\n",
       "      <th>user_id</th>\n",
       "      <th>signup_date</th>\n",
       "      <th>date</th>\n",
       "      <th>browser</th>\n",
       "      <th>test</th>\n",
       "      <th>pages_visited</th>\n",
       "    </tr>\n",
       "  </thead>\n",
       "  <tbody>\n",
       "    <tr>\n",
       "      <th>0</th>\n",
       "      <td>34</td>\n",
       "      <td>2015-01-01</td>\n",
       "      <td>2015-08-15</td>\n",
       "      <td>Chrome</td>\n",
       "      <td>0</td>\n",
       "      <td>6</td>\n",
       "    </tr>\n",
       "    <tr>\n",
       "      <th>1</th>\n",
       "      <td>59</td>\n",
       "      <td>2015-01-01</td>\n",
       "      <td>2015-08-12</td>\n",
       "      <td>Chrome</td>\n",
       "      <td>1</td>\n",
       "      <td>6</td>\n",
       "    </tr>\n",
       "    <tr>\n",
       "      <th>2</th>\n",
       "      <td>178</td>\n",
       "      <td>2015-01-01</td>\n",
       "      <td>2015-08-10</td>\n",
       "      <td>Safari</td>\n",
       "      <td>1</td>\n",
       "      <td>3</td>\n",
       "    </tr>\n",
       "    <tr>\n",
       "      <th>3</th>\n",
       "      <td>285</td>\n",
       "      <td>2015-01-01</td>\n",
       "      <td>2015-08-03</td>\n",
       "      <td>Opera</td>\n",
       "      <td>0</td>\n",
       "      <td>5</td>\n",
       "    </tr>\n",
       "    <tr>\n",
       "      <th>4</th>\n",
       "      <td>383</td>\n",
       "      <td>2015-01-01</td>\n",
       "      <td>2015-08-05</td>\n",
       "      <td>Firefox</td>\n",
       "      <td>1</td>\n",
       "      <td>9</td>\n",
       "    </tr>\n",
       "  </tbody>\n",
       "</table>\n",
       "</div>"
      ],
      "text/plain": [
       "   user_id signup_date       date  browser  test  pages_visited\n",
       "0       34  2015-01-01 2015-08-15   Chrome     0              6\n",
       "1       59  2015-01-01 2015-08-12   Chrome     1              6\n",
       "2      178  2015-01-01 2015-08-10   Safari     1              3\n",
       "3      285  2015-01-01 2015-08-03    Opera     0              5\n",
       "4      383  2015-01-01 2015-08-05  Firefox     1              9"
      ]
     },
     "execution_count": 6,
     "metadata": {},
     "output_type": "execute_result"
    }
   ],
   "source": [
    "# join user and test table\n",
    "\n",
    "data = pd.merge(left = user, right = test, on = 'user_id', how = 'left')\n",
    "data.head()"
   ]
  },
  {
   "cell_type": "code",
   "execution_count": 7,
   "id": "93189b8e",
   "metadata": {},
   "outputs": [
    {
     "name": "stdout",
     "output_type": "stream",
     "text": [
      "<class 'pandas.core.frame.DataFrame'>\n",
      "Int64Index: 100000 entries, 0 to 99999\n",
      "Data columns (total 6 columns):\n",
      " #   Column         Non-Null Count   Dtype         \n",
      "---  ------         --------------   -----         \n",
      " 0   user_id        100000 non-null  int64         \n",
      " 1   signup_date    100000 non-null  datetime64[ns]\n",
      " 2   date           100000 non-null  datetime64[ns]\n",
      " 3   browser        100000 non-null  object        \n",
      " 4   test           100000 non-null  int64         \n",
      " 5   pages_visited  100000 non-null  int64         \n",
      "dtypes: datetime64[ns](2), int64(3), object(1)\n",
      "memory usage: 5.3+ MB\n"
     ]
    }
   ],
   "source": [
    "data.info()"
   ]
  },
  {
   "cell_type": "markdown",
   "id": "38fd9508",
   "metadata": {},
   "source": [
    "# Question 1\n",
    "\n",
    "Is the test winning? That is, should 100% of the users see the Recommended Friend Feature?"
   ]
  },
  {
   "cell_type": "code",
   "execution_count": 8,
   "id": "9609d908",
   "metadata": {},
   "outputs": [
    {
     "data": {
      "text/plain": [
       "test\n",
       "0    4.608394\n",
       "1    4.599693\n",
       "Name: pages_visited, dtype: float64"
      ]
     },
     "execution_count": 8,
     "metadata": {},
     "output_type": "execute_result"
    }
   ],
   "source": [
    "data.groupby('test')['pages_visited'].mean()"
   ]
  },
  {
   "cell_type": "code",
   "execution_count": 11,
   "id": "7dc69a2f",
   "metadata": {},
   "outputs": [
    {
     "data": {
      "image/png": "[encoded data removed]",
      "text/plain": [
       "<Figure size 864x432 with 1 Axes>"
      ]
     },
     "metadata": {
      "needs_background": "light"
     },
     "output_type": "display_data"
    }
   ],
   "source": [
    "fig, ax = plt.subplots(figsize = (12,6))\n",
    "sns.barplot(x = 'test', y = 'pages_visited', data = data, ax = ax)\n",
    "ax.set_title('Mean Page Visited')\n",
    "plt.tight_layout()\n",
    "plt.show()"
   ]
  },
  {
   "cell_type": "code",
   "execution_count": 12,
   "id": "54dbc5da",
   "metadata": {},
   "outputs": [
    {
     "name": "stdout",
     "output_type": "stream",
     "text": [
      "T-test:\t Ttest_indResult(statistic=0.5571118435554797, pvalue=0.5774523171559118)\n"
     ]
    }
   ],
   "source": [
    "# Perform student t-test\n",
    "\n",
    "control_page = data[data['test'] == 0]['pages_visited'].values\n",
    "experiment_page = data[data['test'] == 1]['pages_visited'].values\n",
    "\n",
    "print('T-test:\\t', ttest_ind(a = control_page, b = experiment_page, equal_var = False))"
   ]
  },
  {
   "cell_type": "markdown",
   "id": "b23f354c",
   "metadata": {},
   "source": [
    "From above analysis, we can find that p-value is 0.577, which is much larger than 5%, so we cannot reject the null hypothesis that there is no difference between control and experiment group. \n",
    " \n",
    " \n",
    "  \n",
    "So, the test does not win at all. This should not expand to all users"
   ]
  },
  {
   "cell_type": "markdown",
   "id": "96a93a37",
   "metadata": {},
   "source": [
    "# Question2 \n",
    "  \n",
    "Is the test performing similarly for all user segments or are there differences among different segments?"
   ]
  },
  {
   "cell_type": "code",
   "execution_count": 13,
   "id": "01c810cb",
   "metadata": {},
   "outputs": [
    {
     "data": {
      "text/html": [
       "<div>\n",
       "<style scoped>\n",
       "    .dataframe tbody tr th:only-of-type {\n",
       "        vertical-align: middle;\n",
       "    }\n",
       "\n",
       "    .dataframe tbody tr th {\n",
       "        vertical-align: top;\n",
       "    }\n",
       "\n",
       "    .dataframe thead th {\n",
       "        text-align: right;\n",
       "    }\n",
       "</style>\n",
       "<table border=\"1\" class=\"dataframe\">\n",
       "  <thead>\n",
       "    <tr style=\"text-align: right;\">\n",
       "      <th></th>\n",
       "      <th>user_id</th>\n",
       "      <th>signup_date</th>\n",
       "      <th>date</th>\n",
       "      <th>browser</th>\n",
       "      <th>test</th>\n",
       "      <th>pages_visited</th>\n",
       "      <th>interval</th>\n",
       "      <th>is_first</th>\n",
       "      <th>dayofweek</th>\n",
       "    </tr>\n",
       "  </thead>\n",
       "  <tbody>\n",
       "    <tr>\n",
       "      <th>0</th>\n",
       "      <td>34</td>\n",
       "      <td>2015-01-01</td>\n",
       "      <td>2015-08-15</td>\n",
       "      <td>Chrome</td>\n",
       "      <td>0</td>\n",
       "      <td>6</td>\n",
       "      <td>226</td>\n",
       "      <td>0</td>\n",
       "      <td>5</td>\n",
       "    </tr>\n",
       "    <tr>\n",
       "      <th>1</th>\n",
       "      <td>59</td>\n",
       "      <td>2015-01-01</td>\n",
       "      <td>2015-08-12</td>\n",
       "      <td>Chrome</td>\n",
       "      <td>1</td>\n",
       "      <td>6</td>\n",
       "      <td>223</td>\n",
       "      <td>0</td>\n",
       "      <td>2</td>\n",
       "    </tr>\n",
       "    <tr>\n",
       "      <th>2</th>\n",
       "      <td>178</td>\n",
       "      <td>2015-01-01</td>\n",
       "      <td>2015-08-10</td>\n",
       "      <td>Safari</td>\n",
       "      <td>1</td>\n",
       "      <td>3</td>\n",
       "      <td>221</td>\n",
       "      <td>0</td>\n",
       "      <td>0</td>\n",
       "    </tr>\n",
       "    <tr>\n",
       "      <th>3</th>\n",
       "      <td>285</td>\n",
       "      <td>2015-01-01</td>\n",
       "      <td>2015-08-03</td>\n",
       "      <td>Opera</td>\n",
       "      <td>0</td>\n",
       "      <td>5</td>\n",
       "      <td>214</td>\n",
       "      <td>0</td>\n",
       "      <td>0</td>\n",
       "    </tr>\n",
       "    <tr>\n",
       "      <th>4</th>\n",
       "      <td>383</td>\n",
       "      <td>2015-01-01</td>\n",
       "      <td>2015-08-05</td>\n",
       "      <td>Firefox</td>\n",
       "      <td>1</td>\n",
       "      <td>9</td>\n",
       "      <td>216</td>\n",
       "      <td>0</td>\n",
       "      <td>2</td>\n",
       "    </tr>\n",
       "  </tbody>\n",
       "</table>\n",
       "</div>"
      ],
      "text/plain": [
       "   user_id signup_date       date  browser  test  pages_visited  interval  \\\n",
       "0       34  2015-01-01 2015-08-15   Chrome     0              6       226   \n",
       "1       59  2015-01-01 2015-08-12   Chrome     1              6       223   \n",
       "2      178  2015-01-01 2015-08-10   Safari     1              3       221   \n",
       "3      285  2015-01-01 2015-08-03    Opera     0              5       214   \n",
       "4      383  2015-01-01 2015-08-05  Firefox     1              9       216   \n",
       "\n",
       "   is_first  dayofweek  \n",
       "0         0          5  \n",
       "1         0          2  \n",
       "2         0          0  \n",
       "3         0          0  \n",
       "4         0          2  "
      ]
     },
     "execution_count": 13,
     "metadata": {},
     "output_type": "execute_result"
    }
   ],
   "source": [
    "# Process the data\n",
    "\n",
    "data['interval'] = (data['date'] - data['signup_date']).apply(lambda x:x.days)\n",
    "data['is_first'] = (data['interval'] == 0).astype(int)\n",
    "data['dayofweek'] = data['date'].apply(lambda x: x.dayofweek)\n",
    "\n",
    "data.head()"
   ]
  },
  {
   "cell_type": "code",
   "execution_count": 16,
   "id": "1c92858c",
   "metadata": {},
   "outputs": [
    {
     "data": {
      "image/png": "[encoded data removed]",
      "text/plain": [
       "<Figure size 1296x432 with 2 Axes>"
      ]
     },
     "metadata": {
      "needs_background": "light"
     },
     "output_type": "display_data"
    }
   ],
   "source": [
    "# visualization of browsewr\n",
    "\n",
    "fig, ax = plt.subplots(nrows = 1, ncols = 2, figsize = (18,6))\n",
    "sns.countplot(x = 'browser', hue = 'test', data = data, ax = ax[0])\n",
    "ax[0].set_title('Box Plot of browser', fontsize = 16)\n",
    "\n",
    "sns.barplot(x = 'browser', y ='pages_visited', hue = 'test', data = data, ax = ax[1])\n",
    "ax[1].set_title('Pages Visited vs. Browser', fontsize = 16)\n",
    "plt.tight_layout()\n",
    "plt.show()"
   ]
  },
  {
   "cell_type": "code",
   "execution_count": 18,
   "id": "e1bc9bb6",
   "metadata": {},
   "outputs": [
    {
     "data": {
      "image/png": "[encoded data removed]",
      "text/plain": [
       "<Figure size 1296x432 with 2 Axes>"
      ]
     },
     "metadata": {
      "needs_background": "light"
     },
     "output_type": "display_data"
    }
   ],
   "source": [
    "# Visualization of is_first\n",
    "\n",
    "fig, ax = plt.subplots(nrows = 1, ncols = 2, figsize = (18,6))\n",
    "sns.countplot(x = 'is_first', hue = 'test', data = data, ax = ax[0])\n",
    "ax[0].set_title('Box Plot of Is_first')\n",
    "\n",
    "sns.barplot(x = 'is_first', y = 'pages_visited', hue = 'test', data = data, ax = ax[1])\n",
    "ax[1].set_title('Pages Visited vs. is_first', fontsize = 16)\n",
    "plt.tight_layout()\n",
    "plt.show()"
   ]
  },
  {
   "cell_type": "code",
   "execution_count": 19,
   "id": "fdd66b18",
   "metadata": {},
   "outputs": [
    {
     "data": {
      "image/png": "[encoded data removed]",
      "text/plain": [
       "<Figure size 1296x432 with 2 Axes>"
      ]
     },
     "metadata": {
      "needs_background": "light"
     },
     "output_type": "display_data"
    }
   ],
   "source": [
    "# Visualization of dayofweek\n",
    "\n",
    "fig, ax = plt.subplots(nrows = 1, ncols = 2, figsize = (18,6))\n",
    "sns.countplot(x = 'dayofweek', hue = 'test', data = data, ax = ax[0])\n",
    "ax[0].set_title('Box Plot of DayofWeek')\n",
    "\n",
    "sns.barplot(x = 'dayofweek', y = 'pages_visited', hue = 'test', data = data, ax = ax[1])\n",
    "ax[1].set_title('Mean Pages Visited vs. DayofWeek')\n",
    "plt.tight_layout()\n",
    "plt.show()"
   ]
  },
  {
   "cell_type": "markdown",
   "id": "adf5cf11",
   "metadata": {},
   "source": [
    "# Question 3\n",
    "  \n",
    "If you identified segments that responded differently to the test, can you guess the reason? Would this change your point 1 conclusions?\n",
    "\n",
    "From the visualization in above part, we can see that the number of pages visited is increased for some factors, such as Chrome, Safari, Firefox, and IE, but the number of pages visited is always 0 for Opera, which shows that there might be some errors or bugs.\n",
    "\n",
    "If user visit the website right after they signup, the number of pages visited actually get decreased when they are exposed to the new feature.\n",
    "\n",
    "Also, there are some small difference for day of week.\n",
    "\n",
    "Now, let's remove the user who use Opera, and conduct t-test again.\n",
    "\n"
   ]
  },
  {
   "cell_type": "code",
   "execution_count": 20,
   "id": "6cfe0aad",
   "metadata": {},
   "outputs": [
    {
     "data": {
      "text/plain": [
       "test\n",
       "0    4.609804\n",
       "1    4.694989\n",
       "Name: pages_visited, dtype: float64"
      ]
     },
     "execution_count": 20,
     "metadata": {},
     "output_type": "execute_result"
    }
   ],
   "source": [
    "subset = data[data['browser'] != 'Opera']\n",
    "subset.groupby('test')['pages_visited'].mean()"
   ]
  },
  {
   "cell_type": "code",
   "execution_count": 22,
   "id": "37bdf6c8",
   "metadata": {},
   "outputs": [
    {
     "data": {
      "image/png": "[encoded data removed]",
      "text/plain": [
       "<Figure size 576x360 with 1 Axes>"
      ]
     },
     "metadata": {
      "needs_background": "light"
     },
     "output_type": "display_data"
    }
   ],
   "source": [
    "# Visualization\n",
    "\n",
    "fig, ax = plt.subplots(figsize = (8,5))\n",
    "sns.barplot(x = 'test', y = 'pages_visited', data = subset, ax = ax)\n",
    "plt.tight_layout()\n",
    "plt.show()"
   ]
  },
  {
   "cell_type": "code",
   "execution_count": 23,
   "id": "6d94de3c",
   "metadata": {},
   "outputs": [
    {
     "name": "stdout",
     "output_type": "stream",
     "text": [
      "T-test:\t Ttest_indResult(statistic=-5.474295518566027, pvalue=4.403954129457701e-08)\n"
     ]
    }
   ],
   "source": [
    "# Perform student ttest\n",
    "\n",
    "control_page = subset[subset['test'] == 0]['pages_visited'].values\n",
    "experiment_page = subset[subset['test'] == 1]['pages_visited'].values\n",
    "\n",
    "print('T-test:\\t', ttest_ind(a = control_page, b = experiment_page, equal_var = False))"
   ]
  },
  {
   "cell_type": "markdown",
   "id": "b14e5140",
   "metadata": {},
   "source": [
    "So, it is clear that after removing the records with Opera browser, the new feature becomes significantly useful. So, I would sugguest expanding this feature to other users."
   ]
  },
  {
   "cell_type": "code",
   "execution_count": 24,
   "id": "41d65c3f",
   "metadata": {},
   "outputs": [
    {
     "data": {
      "image/png": "[encoded data removed]",
      "text/plain": [
       "<Figure size 1296x432 with 2 Axes>"
      ]
     },
     "metadata": {
      "needs_background": "light"
     },
     "output_type": "display_data"
    }
   ],
   "source": [
    "# Visualization of is_first\n",
    "\n",
    "fig, ax = plt.subplots(nrows = 1, ncols = 2, figsize = (18,6))\n",
    "sns.countplot(x = 'is_first', hue = 'test', data = subset, ax = ax[0])\n",
    "ax[0].set_title('Box plot of is_first', fontsize = 16)\n",
    "\n",
    "sns.barplot(x = 'is_first', y = 'pages_visited', hue = 'test', data = subset, ax = ax[1])\n",
    "ax[1].set_title('Pages Visited vs. is_first', fontsize = 16)\n",
    "plt.tight_layout()\n",
    "plt.show()"
   ]
  },
  {
   "cell_type": "code",
   "execution_count": null,
   "id": "7bbacdc6",
   "metadata": {},
   "outputs": [],
   "source": []
  }
 ],
 "metadata": {
  "kernelspec": {
   "display_name": "Python 3 (ipykernel)",
   "language": "python",
   "name": "python3"
  },
  "language_info": {
   "codemirror_mode": {
    "name": "ipython",
    "version": 3
   },
   "file_extension": ".py",
   "mimetype": "text/x-python",
   "name": "python",
   "nbconvert_exporter": "python",
   "pygments_lexer": "ipython3",
   "version": "3.8.12"
  },
  "toc": {
   "base_numbering": 1,
   "nav_menu": {},
   "number_sections": true,
   "sideBar": true,
   "skip_h1_title": false,
   "title_cell": "Table of Contents",
   "title_sidebar": "Contents",
   "toc_cell": false,
   "toc_position": {},
   "toc_section_display": true,
   "toc_window_display": false
  }
 },
 "nbformat": 4,
 "nbformat_minor": 5
}
